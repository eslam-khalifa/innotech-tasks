{
 "cells": [
  {
   "cell_type": "markdown",
   "id": "47275d3e",
   "metadata": {},
   "source": [
    "### Basics"
   ]
  },
  {
   "cell_type": "markdown",
   "id": "356c6731",
   "metadata": {},
   "source": [
    "1. Write a program that accepts a length in inches and prints the length in centimeters (1 \n",
    "inch = 2.54cm). \n",
    "- Note: use float() for real numbers not int() when casting the data type in input statement,  and add {:.2f} in print statement for two decimal places. "
   ]
  },
  {
   "cell_type": "code",
   "execution_count": null,
   "id": "bdd783be",
   "metadata": {},
   "outputs": [
    {
     "name": "stdout",
     "output_type": "stream",
     "text": [
      "the length you entered 5.00 inches is equal to 12.70 centimeters.\n"
     ]
    }
   ],
   "source": [
    "# Letting the user enter the length in inches and validate it\n",
    "while True:\n",
    "    try:\n",
    "        length_in_inches = float(input(\"Please, enter the length in inches: \"))\n",
    "        if length_in_inches >= 0:\n",
    "            break\n",
    "        else:\n",
    "            print(\"Please enter a non-negative number: \")\n",
    "    except ValueError:\n",
    "        print(\"Invalid input. Please enter a numeric value: \")\n",
    "\n",
    "# Calculating the length in centimeters\n",
    "length_in_centimeters = length_in_inches * 2.54\n",
    "\n",
    "# Printing the result to the user\n",
    "print(f\"the length you entered {length_in_inches:.2f} inches is equal to {length_in_centimeters:.2f} centimeters.\")"
   ]
  },
  {
   "cell_type": "markdown",
   "id": "4ae2ecea",
   "metadata": {},
   "source": [
    "2. Write a program that converts temperatures from Celsius to Fahrenheit."
   ]
  },
  {
   "cell_type": "code",
   "execution_count": null,
   "id": "bd2e313c",
   "metadata": {},
   "outputs": [
    {
     "name": "stdout",
     "output_type": "stream",
     "text": [
      "the temperature you entered in Celsius is 25.0 degrees and the temperature in Fahrenheit is 77.0 degrees.\n"
     ]
    }
   ],
   "source": [
    "# Letting the user enter the temperature in Celsius and validate it\n",
    "while True:\n",
    "    try:\n",
    "        temperature_in_celsius = float(input(\"Please, enter the temperature in Celsius: \"))\n",
    "        break\n",
    "    except ValueError:\n",
    "        print(\"Invalid input. Please enter a numeric temperature value.\")\n",
    "\n",
    "# Converting the temperature from Celsius to Fahrenheit\n",
    "temperature_in_fahrenheit = temperature_in_celsius * (9/5) + 32\n",
    "\n",
    "# Printing the result to the user\n",
    "print(f\"the temperature you entered in Celsius is {temperature_in_celsius} degrees and the temperature in Fahrenheit is {temperature_in_fahrenheit} degrees.\")"
   ]
  },
  {
   "cell_type": "markdown",
   "id": "5aa875e5",
   "metadata": {},
   "source": [
    "3. Write a program that calculates the volume of a sphere. "
   ]
  },
  {
   "cell_type": "code",
   "execution_count": null,
   "id": "ecb763b2",
   "metadata": {},
   "outputs": [
    {
     "name": "stdout",
     "output_type": "stream",
     "text": [
      "The volume of the sphere with radius 3.0 is 113.09733552923254.\n"
     ]
    }
   ],
   "source": [
    "import math\n",
    "\n",
    "# Letting the user enter the radius of the sphere and validate it\n",
    "while True:\n",
    "    try:\n",
    "        radius = float(input(\"Please, enter the radius of the sphere: \"))\n",
    "        if radius >= 0:\n",
    "            break\n",
    "        else:\n",
    "            print(\"Radius cannot be negative. Please enter a non-negative number: \")\n",
    "    except ValueError:\n",
    "        print(\"Invalid input. Please enter a numeric value: \")\n",
    "\n",
    "# Calculating the volume of the sphere\n",
    "volume = (4/3) * math.pi * pow(radius, 3)\n",
    "\n",
    "# Printing the result to the user\n",
    "print(f\"The volume of the sphere with radius {radius} is {volume}.\")"
   ]
  },
  {
   "cell_type": "markdown",
   "id": "281a8eed",
   "metadata": {},
   "source": [
    "4. Write a program to calculate and display an employee’s gross and net pay. In this scenario, tax is deducted from the gross pay at a rate of 20% to give the net pay. "
   ]
  },
  {
   "cell_type": "code",
   "execution_count": null,
   "id": "4ee1723b",
   "metadata": {},
   "outputs": [
    {
     "name": "stdout",
     "output_type": "stream",
     "text": [
      "The employee's gross pay is 5.0 and the net pay after 20% tax deduction is 4.0.\n"
     ]
    }
   ],
   "source": [
    "# Letting the user enter the employee's gross pay and validate it\n",
    "while True:\n",
    "    try:\n",
    "        gross_pay = float(input(\"Please, enter the employee's gross pay: \"))\n",
    "        if gross_pay >= 0:\n",
    "            break\n",
    "        else:\n",
    "            print(\"Gross pay cannot be negative. Please enter a non-negative number: \")\n",
    "    except ValueError:\n",
    "        print(\"Invalid input. Please enter a numeric value: \")\n",
    "\n",
    "# Calculating the net pay after 20% tax deduction\n",
    "net_pay = gross_pay * 0.8\n",
    "\n",
    "# Printing the results\n",
    "print(f\"The employee's gross pay is {gross_pay} and the net pay after 20% tax deduction is {net_pay}.\")"
   ]
  },
  {
   "cell_type": "markdown",
   "id": "6eaf18fe",
   "metadata": {},
   "source": [
    "5. Write a program to print the numbers 1 - 10 to the screen. "
   ]
  },
  {
   "cell_type": "code",
   "execution_count": 8,
   "id": "b958b5b2",
   "metadata": {},
   "outputs": [
    {
     "name": "stdout",
     "output_type": "stream",
     "text": [
      "1\n",
      "2\n",
      "3\n",
      "4\n",
      "5\n",
      "6\n",
      "7\n",
      "8\n",
      "9\n",
      "10\n"
     ]
    }
   ],
   "source": [
    "# Printing the numbers from 1 to 10 to the user\n",
    "for number in range(1, 11):\n",
    "    print(number)"
   ]
  },
  {
   "cell_type": "markdown",
   "id": "830d960f",
   "metadata": {},
   "source": [
    "6. Write a program that accepts a number from the user until a negative number is entered."
   ]
  },
  {
   "cell_type": "code",
   "execution_count": null,
   "id": "0142dc3b",
   "metadata": {},
   "outputs": [
    {
     "name": "stdout",
     "output_type": "stream",
     "text": [
      "You entered: 5.0\n",
      "You entered: 3.0\n",
      "You entered: 50.0\n",
      "Negative number entered. Program stopped.\n"
     ]
    }
   ],
   "source": [
    "# Continuously accept numbers from the user until a negative number is entered\n",
    "while True:\n",
    "    # Letting the user enter a number and validate it\n",
    "    try:\n",
    "        # Letting the user enter a number and validate it\n",
    "        number = float(input(\"Enter a number (negative number to stop): \"))\n",
    "        \n",
    "        # Checking if the number is negative\n",
    "        if number < 0:\n",
    "            print(\"Negative number entered. Program stopped: \")\n",
    "            break\n",
    "\n",
    "        print(f\"You entered: {number}\")\n",
    "    \n",
    "    except ValueError:\n",
    "        print(\"Invalid input. Please enter a valid number: \")"
   ]
  },
  {
   "cell_type": "markdown",
   "id": "7cdbf47c",
   "metadata": {},
   "source": [
    "7. Write a program that accepts an integer and prints the specified range it belongs to.\n",
    "- Range 1: 0 to 10\n",
    "- Range 2: 11 to 20 \n",
    "- Range 3: 21 to 30 \n",
    "- Range 4: 31 to 40 "
   ]
  },
  {
   "cell_type": "code",
   "execution_count": null,
   "id": "6bdf2605",
   "metadata": {},
   "outputs": [
    {
     "name": "stdout",
     "output_type": "stream",
     "text": [
      "Range 5: 41 to 50\n"
     ]
    }
   ],
   "source": [
    "# Letting the user enter a number to get its range and validate it\n",
    "while True:\n",
    "    try:\n",
    "        number = int(input(\"Enter an integer: \"))\n",
    "        break\n",
    "    except ValueError:\n",
    "        print(\"Invalid input. Please enter a valid integer: \")\n",
    "\n",
    "# Determine and print the range it belongs to\n",
    "print(f\"Range {number}: {(number - 1) * 10 + 1} to {number * 10}\")"
   ]
  },
  {
   "cell_type": "markdown",
   "id": "e4014b54",
   "metadata": {},
   "source": [
    "### Strings"
   ]
  },
  {
   "cell_type": "markdown",
   "id": "d5e589d1",
   "metadata": {},
   "source": [
    "1. Write a Python program to reverse a string.  \n",
    "- Sample String : \"1234abcd\" \n",
    "- Expected Output : \"dcba4321\" "
   ]
  },
  {
   "cell_type": "code",
   "execution_count": null,
   "id": "1260610a",
   "metadata": {},
   "outputs": [
    {
     "name": "stdout",
     "output_type": "stream",
     "text": [
      "nur loohcs\n"
     ]
    }
   ],
   "source": [
    "# Letting the user enter the string and validate it\n",
    "while True:\n",
    "    user_string = input(\"Please, enter the string you want to reverse: \").strip()\n",
    "    if user_string:\n",
    "        break\n",
    "    else:\n",
    "        print(\"You entered an empty string. Please enter something.\")\n",
    "\n",
    "# Reversing the string\n",
    "reversed_string = user_string[::-1]\n",
    "\n",
    "# Printing the reversed string to the user\n",
    "print(reversed_string)"
   ]
  },
  {
   "cell_type": "markdown",
   "id": "9f0883ca",
   "metadata": {},
   "source": [
    "2. Write a Python function that accepts a string and counts the number of upper and lower case letters.  \n",
    "- Sample String : 'The quick Brow Fox' \n",
    "- Expected Output :  \n",
    "- No. of Upper case characters : 3 \n",
    "- No. of Lower case Characters : 12 "
   ]
  },
  {
   "cell_type": "code",
   "execution_count": null,
   "id": "50b3498b",
   "metadata": {},
   "outputs": [
    {
     "name": "stdout",
     "output_type": "stream",
     "text": [
      "No. of Upper case characters: 3\n",
      "No. of Lower case Characters: 12\n"
     ]
    }
   ],
   "source": [
    "# Letting the user enter the string that wants to count how many number of upper and lower case letters in it and validate it\n",
    "while True:\n",
    "    user_string = input(\"Please, enter the string you want to count upper and lower case letters in: \").strip()\n",
    "    if user_string:\n",
    "        break\n",
    "    else:\n",
    "        print(\"You entered an empty string. Please enter something.\")\n",
    "\n",
    "# Defining two variables to count upper and lower letters\n",
    "upper_letters_count = 0\n",
    "lower_letters_count = 0\n",
    "\n",
    "# Iterating over the user string and checking for each char if it is upper case or not\n",
    "for char in user_string:\n",
    "    if char.isupper():\n",
    "        upper_letters_count += 1\n",
    "    elif char.islower():\n",
    "        lower_letters_count += 1\n",
    "\n",
    "# Printing to the user the result\n",
    "print(f\"No. of Upper case characters: {upper_letters_count}\\nNo. of Lower case Characters: {lower_letters_count}\")"
   ]
  },
  {
   "cell_type": "markdown",
   "id": "53f1f318",
   "metadata": {},
   "source": [
    "3. Write a Python function that checks whether a passed string is a palindrome or not.  \n",
    "- Note: A palindrome is a word, phrase, or sequence that reads the same backward as forward, e.g., madam or nurses run. "
   ]
  },
  {
   "cell_type": "code",
   "execution_count": null,
   "id": "6b9ee75a",
   "metadata": {},
   "outputs": [
    {
     "name": "stdout",
     "output_type": "stream",
     "text": [
      "The string nurses run you entered is palindrome.\n"
     ]
    }
   ],
   "source": [
    "# Letting the user enter the string to check if it is palindrome or not and validate it\n",
    "while True:\n",
    "    user_string = input(\"Please, enter the string you want to check if it is palindrome or not: \").strip()\n",
    "    if user_string:\n",
    "        break\n",
    "    else:\n",
    "        print(\"You entered an empty string. Please enter something.\")\n",
    "\n",
    "# removing spaces from the user string\n",
    "user_string_before_removing_spaces = user_string\n",
    "\n",
    "for char in user_string:\n",
    "    if char == ' ':\n",
    "        user_string = user_string.replace(' ', '')\n",
    "\n",
    "# Calculating the reversed user string\n",
    "user_string_reversed = user_string[::-1]\n",
    "\n",
    "# Printing the result to the user\n",
    "print(f\"The string {user_string_before_removing_spaces} you entered {\"is\" if user_string == user_string_reversed else \"is not\"} palindrome.\")"
   ]
  },
  {
   "cell_type": "markdown",
   "id": "b23e8f02",
   "metadata": {},
   "source": [
    "1. Write a Python function that takes a list and returns a new list with distinct elements from  the first list.  \n",
    "- Sample List : [1,2,3,3,3,3,4,5] \n",
    "- Unique List : [1, 2, 3, 4, 5] "
   ]
  },
  {
   "cell_type": "code",
   "execution_count": null,
   "id": "0900a277",
   "metadata": {},
   "outputs": [
    {
     "name": "stdout",
     "output_type": "stream",
     "text": [
      "[1, 2, 3, 4, 5]\n"
     ]
    }
   ],
   "source": [
    "# the sample list with not unique numbers\n",
    "sample_list = [1,2,3,3,3,3,4,5]\n",
    "\n",
    "# the unique list\n",
    "unique_list = list(set(sample_list))\n",
    "\n",
    "# Printing the unique list to the user\n",
    "print(unique_list)"
   ]
  },
  {
   "cell_type": "markdown",
   "id": "69140ff0",
   "metadata": {},
   "source": [
    "2. Write a Python program to print the even numbers from a given list.  \n",
    "- Sample List : [1, 2, 3, 4, 5, 6, 7, 8, 9]  \n",
    "- Expected Result : [2, 4, 6, 8] "
   ]
  },
  {
   "cell_type": "code",
   "execution_count": 31,
   "id": "19e3f6e5",
   "metadata": {},
   "outputs": [
    {
     "name": "stdout",
     "output_type": "stream",
     "text": [
      "[2, 4, 6, 8]\n"
     ]
    }
   ],
   "source": [
    "# Defining the sample list that even numbers will be extracted from and the saved to expected result list\n",
    "sample_list = [1,2,3,4,5,6,7,8,9]\n",
    "expected_result = list()\n",
    "\n",
    "# Iterating over each number in the sample list and checking if the number is even or odd\n",
    "for number in sample_list:\n",
    "    if number % 2 == 0:\n",
    "        # if even append to the expected list\n",
    "        expected_result.append(number)\n",
    "\n",
    "# Printing the result to the user\n",
    "print(expected_result)"
   ]
  },
  {
   "cell_type": "markdown",
   "id": "ccdeb5df",
   "metadata": {},
   "source": [
    "3. Write a Python function to find the kth largest element in a list."
   ]
  },
  {
   "cell_type": "code",
   "execution_count": 59,
   "id": "0e8b1c5b",
   "metadata": {},
   "outputs": [
    {
     "name": "stdout",
     "output_type": "stream",
     "text": [
      "The 5th largest element in a list is 4.\n"
     ]
    }
   ],
   "source": [
    "def get_kth_largest_element(sample_list):\n",
    "    # sort the sample list descending\n",
    "    sorted_sample_list = sorted(sample_list, reverse=True)\n",
    "    return sorted_sample_list\n",
    "\n",
    "# Define the sample list and the kth number and validate it\n",
    "sample_list = [1,2,3,4,5,6,7,8]\n",
    "\n",
    "while True:\n",
    "    try:\n",
    "        kth_number = int(input(\"Please enter the value of k for the kth largest element in the list: \"))\n",
    "        if 1 <= kth_number <= len(sample_list):\n",
    "            break\n",
    "        else:\n",
    "            print(f\"Please enter a number between 1 and {len(sample_list)}.\")\n",
    "    except ValueError:\n",
    "        print(\"Invalid input. Please enter a valid integer: \")\n",
    "\n",
    "# Sorting the sample list descending\n",
    "sorted_sample_list = sorted(sample_list, reverse=True)\n",
    "\n",
    "# Print the kth largest element in the sample list\n",
    "print(f\"The {kth_number}th largest element in a list is {sorted_sample_list[kth_number - 1]}.\")"
   ]
  },
  {
   "cell_type": "markdown",
   "id": "1145382b",
   "metadata": {},
   "source": [
    "4. Write a Python function to check if a list is a palindrome or not. Return true otherwise \n",
    "false."
   ]
  },
  {
   "cell_type": "code",
   "execution_count": 36,
   "id": "094cca63",
   "metadata": {},
   "outputs": [
    {
     "name": "stdout",
     "output_type": "stream",
     "text": [
      "The list [1, 2, 3, 4, 5, 4, 3, 2, 1] is palindrome.\n"
     ]
    }
   ],
   "source": [
    "def is_list_palindrome(sample_list):\n",
    "    reversed_sample_list = sample_list[::-1]\n",
    "\n",
    "    # checking if the two lists are equal or not\n",
    "    return sample_list == reversed_sample_list\n",
    "\n",
    "# Define the sample list to check if it is palindrome or not\n",
    "sample_list = [1,2,3,4,5,4,3,2,1]\n",
    "\n",
    "# Passing the sample list to is list palindrome function\n",
    "is_list_palindrome_checked = is_list_palindrome(sample_list)\n",
    "\n",
    "# Printing to the user the result\n",
    "print(f\"The list {sample_list} {\"is\" if is_list_palindrome_checked == True else \"is not\"} palindrome.\")"
   ]
  },
  {
   "cell_type": "markdown",
   "id": "411bf853",
   "metadata": {},
   "source": [
    "5. Write a program that stores a shopping list of 10 items. Print the whole list to the screen, then print items 2 and 8."
   ]
  },
  {
   "cell_type": "code",
   "execution_count": 37,
   "id": "33be3c6e",
   "metadata": {},
   "outputs": [
    {
     "name": "stdout",
     "output_type": "stream",
     "text": [
      "Shopping List: ['milk', 'bread', 'eggs', 'cheese', 'apples', 'bananas', 'chicken', 'rice', 'tomatoes', 'coffee']\n",
      "Item 2: bread\n",
      "Item 8: rice\n"
     ]
    }
   ],
   "source": [
    "# Define the shopping list with 10 items\n",
    "shopping_list = [\"milk\", \"bread\", \"eggs\", \"cheese\", \"apples\", \"bananas\", \"chicken\", \"rice\", \"tomatoes\", \"coffee\"]\n",
    "\n",
    "# Print the whole shopping list\n",
    "print(\"Shopping List:\", shopping_list)\n",
    "\n",
    "# Print items 2 and 8\n",
    "print(\"Item 2:\", shopping_list[1])\n",
    "print(\"Item 8:\", shopping_list[7])"
   ]
  },
  {
   "cell_type": "markdown",
   "id": "7f2c5621",
   "metadata": {},
   "source": [
    "6. Extend the previous program, to insert an item into the list. "
   ]
  },
  {
   "cell_type": "code",
   "execution_count": null,
   "id": "7aa816c9",
   "metadata": {},
   "outputs": [
    {
     "name": "stdout",
     "output_type": "stream",
     "text": [
      "Shopping List: ['milk', 'bread', 'eggs', 'cheese', 'apples', 'bananas', 'chicken', 'rice', 'tomatoes', 'coffee', 'Carrots']\n",
      "Item 2: bread\n",
      "Item 8: rice\n"
     ]
    }
   ],
   "source": [
    "# Define the shopping list with 10 items\n",
    "shopping_list = [\"milk\", \"bread\", \"eggs\", \"cheese\", \"apples\", \"bananas\", \"chicken\", \"rice\", \"tomatoes\", \"coffee\"]\n",
    "\n",
    "# Letting the user enter the item he wants to insert it to the shopping list and validate it\n",
    "while True:\n",
    "    user_item = input(\"Please, enter the item you want to insert: \").strip()\n",
    "    if user_item:\n",
    "        break\n",
    "    else:\n",
    "        print(\"Invalid input. Please enter a non-empty item name: \")\n",
    "\n",
    "# Appending the item to the shopping list\n",
    "shopping_list.append(user_item)\n",
    "\n",
    "# Print the whole shopping list\n",
    "print(\"Shopping List:\", shopping_list)\n",
    "\n",
    "# Print items 2 and 8\n",
    "print(\"Item 2:\", shopping_list[1])\n",
    "print(\"Item 8:\", shopping_list[7])"
   ]
  },
  {
   "cell_type": "markdown",
   "id": "3bb297e1",
   "metadata": {},
   "source": [
    "### Dictionary"
   ]
  },
  {
   "cell_type": "markdown",
   "id": "c4a080b0",
   "metadata": {},
   "source": [
    "1. Write a Python script to sort (ascending and descending) a dictionary by value."
   ]
  },
  {
   "cell_type": "code",
   "execution_count": null,
   "id": "e962f67e",
   "metadata": {},
   "outputs": [
    {
     "name": "stdout",
     "output_type": "stream",
     "text": [
      "Ascending order: {'banana': 5, 'orange': 8, 'apple': 10, 'grape': 12}\n",
      "Descending order: {'grape': 12, 'apple': 10, 'orange': 8, 'banana': 5}\n"
     ]
    }
   ],
   "source": [
    "# Define a sample dictionary\n",
    "sample_dictionary = {'apple': 10, 'banana': 5, 'orange': 8, 'grape': 12}\n",
    "\n",
    "# Sort dictionary by value in ascending order\n",
    "asc_sorted_dictionary = dict(sorted(sample_dictionary.items(), key=lambda item: item[1]))\n",
    "\n",
    "# Sort dictionary by value in descending order\n",
    "desc_sorted_dictionary = dict(sorted(sample_dictionary.items(), key=lambda item: item[1], reverse=True))\n",
    "\n",
    "# Printing the results to the user\n",
    "print(\"Ascending order:\", asc_sorted_dictionary)\n",
    "print(\"Descending order:\", desc_sorted_dictionary)"
   ]
  },
  {
   "cell_type": "markdown",
   "id": "6c10c18f",
   "metadata": {},
   "source": [
    "2. Write a Python script to check whether a given key already exists in a dictionary. "
   ]
  },
  {
   "cell_type": "code",
   "execution_count": null,
   "id": "3497e909",
   "metadata": {},
   "outputs": [
    {
     "name": "stdout",
     "output_type": "stream",
     "text": [
      "The key 'grape' exists in the dictionary.\n"
     ]
    }
   ],
   "source": [
    "# Define a sample dictionary\n",
    "sample_dictionary = {'apple': 10, 'banana': 5, 'orange': 8, 'grape': 12}\n",
    "\n",
    "# Letting the user enter the key to check and validate it\n",
    "while True:\n",
    "    key_to_check = input(\"Enter the key you want to check in the dictionary: \").strip()\n",
    "    if key_to_check:\n",
    "        break\n",
    "    else:\n",
    "        print(\"Invalid input. Please enter a non-empty key: \")\n",
    "\n",
    "# Check if the key exists in sample_dictionary using ternary operator\n",
    "print(f\"The key '{key_to_check}' {\"exists\" if key_to_check in sample_dictionary else \"does not exist\"} in the dictionary.\")"
   ]
  },
  {
   "cell_type": "markdown",
   "id": "e67c5779",
   "metadata": {},
   "source": [
    "3. Write a Python program to iterate over dictionaries using for loops."
   ]
  },
  {
   "cell_type": "code",
   "execution_count": null,
   "id": "5ea94c10",
   "metadata": {},
   "outputs": [
    {
     "name": "stdout",
     "output_type": "stream",
     "text": [
      "Key: apple, Value: 10\n",
      "Key: banana, Value: 5\n",
      "Key: orange, Value: 8\n",
      "Key: grape, Value: 12\n"
     ]
    }
   ],
   "source": [
    "# Define a sample dictionary\n",
    "sample_dictionary = {'apple': 10, 'banana': 5, 'orange': 8, 'grape': 12}\n",
    "\n",
    "# Iterate over sample_dictionary and print each key-value pair\n",
    "for key, value in sample_dictionary.items():\n",
    "    print(f\"Key: {key}, Value: {value}\")"
   ]
  },
  {
   "cell_type": "markdown",
   "id": "4a669167",
   "metadata": {},
   "source": [
    "4. Generate Dictionary of Numbers and Their Squares. "
   ]
  },
  {
   "cell_type": "code",
   "execution_count": null,
   "id": "76d30390",
   "metadata": {},
   "outputs": [
    {
     "name": "stdout",
     "output_type": "stream",
     "text": [
      "{1: 1, 2: 4, 3: 9, 4: 16, 5: 25}\n"
     ]
    }
   ],
   "source": [
    "# Asking the user to enter the maximum number to create (n, n^2) dictionary and validate it and the result dictionary\n",
    "while True:\n",
    "    try:\n",
    "        maximum_number_to_create_n_n_square_dictionary = int(input(\"Please, enter the maximum number to get a map of an item (n, n^2): \"))\n",
    "        if maximum_number_to_create_n_n_square_dictionary > 0:\n",
    "            break\n",
    "        else:\n",
    "            print(\"Please enter a positive integer greater than zero.\")\n",
    "    except ValueError:\n",
    "        print(\"Invalid input. Please enter a valid integer.\")\n",
    "\n",
    "result_dictionary = dict()\n",
    "\n",
    "# creating items in this way (number, number^2)\n",
    "for number in range (1, maximum_number_to_create_n_n_square_dictionary + 1):\n",
    "    result_dictionary[number] = number ** 2\n",
    "\n",
    "# Printing the dictionary to the user\n",
    "print(result_dictionary)"
   ]
  },
  {
   "cell_type": "markdown",
   "id": "0729baa5",
   "metadata": {},
   "source": [
    "5. Write a program that adds some employee data to a dictionary. Use an employee number as the key."
   ]
  },
  {
   "cell_type": "code",
   "execution_count": null,
   "id": "e8406555",
   "metadata": {},
   "outputs": [
    {
     "name": "stdout",
     "output_type": "stream",
     "text": [
      "{100: {'name': 'Islam', 'job': 'Engineer'}, 101: {'name': 'Mohammed', 'job': 'Nurse'}, 102: {'name': 'Gamal', 'job': 'Doctor'}}\n"
     ]
    }
   ],
   "source": [
    "# Defining samples of employees data\n",
    "sample_employees_data_dictionary = {\n",
    "    100 : {\"name\" : \"Islam\", \"job\" : \"Engineer\"}, \n",
    "    101 : {\"name\" : \"Mohammed\", \"job\" : \"Nurse\"}\n",
    "}\n",
    "row_number = 102\n",
    "\n",
    "# Letting the user enter the name and the job of the employee and validate them\n",
    "while True:\n",
    "    name = input(\"Please, enter the name of the employee: \").strip()\n",
    "    if name:\n",
    "        break\n",
    "    print(\"Name cannot be empty. Please enter a valid name.\")\n",
    "    \n",
    "while True:\n",
    "    job = input(\"Please, enter the job of the employee: \").strip()\n",
    "    if job:\n",
    "        break\n",
    "    print(\"Job cannot be empty. Please enter a valid job.\")\n",
    "\n",
    "# Adding the new employee to the dictionary\n",
    "sample_employees_data_dictionary[row_number] = {\"name\" : name, \"job\" : job}\n",
    "\n",
    "# Printing the dictionary\n",
    "print(sample_employees_data_dictionary)"
   ]
  },
  {
   "cell_type": "markdown",
   "id": "ce130527",
   "metadata": {},
   "source": [
    "### Functions"
   ]
  },
  {
   "cell_type": "markdown",
   "id": "6254e044",
   "metadata": {},
   "source": [
    "1. Write a program that accepts a number from the user and uses a function to square the number then return the result. Print the result to the screen."
   ]
  },
  {
   "cell_type": "code",
   "execution_count": null,
   "id": "fa7aa81c",
   "metadata": {},
   "outputs": [
    {
     "name": "stdout",
     "output_type": "stream",
     "text": [
      "The square of 4.0 is 16.0\n"
     ]
    }
   ],
   "source": [
    "def square_number(n):\n",
    "    return n ** 2\n",
    "\n",
    "# Letting the user enter the number he wants to square it and validate it\n",
    "while True:\n",
    "    try:\n",
    "        number = float(input(\"Enter a number: \"))\n",
    "        break\n",
    "    except ValueError:\n",
    "        print(\"Invalid input. Please enter a valid number.\")\n",
    "\n",
    "# Squaring the number by passing it to the function square number\n",
    "squared_number = square_number(number)\n",
    "\n",
    "# Printing the result to the user\n",
    "print(f\"The square of {number} is {squared_number}\")"
   ]
  },
  {
   "cell_type": "markdown",
   "id": "5f8e174b",
   "metadata": {},
   "source": [
    "2. Write a function that returns the largest of two numbers. Test the function and print the results to the screen. "
   ]
  },
  {
   "cell_type": "code",
   "execution_count": null,
   "id": "34751b5f",
   "metadata": {},
   "outputs": [
    {
     "name": "stdout",
     "output_type": "stream",
     "text": [
      "The larger number between 3.0 and 5.0 is 5.0\n"
     ]
    }
   ],
   "source": [
    "def get_larger_number(a, b):\n",
    "    return a if a > b else b\n",
    "\n",
    "# Letting the user enter the two numbers and validate them\n",
    "while True:\n",
    "    try:\n",
    "        num1 = float(input(\"Enter the first number: \"))\n",
    "        break\n",
    "    except ValueError:\n",
    "        print(\"Invalid input. Please enter a valid number.\")\n",
    "\n",
    "while True:\n",
    "    try:\n",
    "        num2 = float(input(\"Enter the second number: \"))\n",
    "        break\n",
    "    except ValueError:\n",
    "        print(\"Invalid input. Please enter a valid number.\")\n",
    "\n",
    "# Getting the largest number by passing the two numbers to the method get larger number and returning the largest number\n",
    "largest = get_larger_number(num1, num2)\n",
    "\n",
    "# Printing the largest number\n",
    "print(f\"The larger number between {num1} and {num2} is {largest}\")"
   ]
  },
  {
   "cell_type": "markdown",
   "id": "b622d5cf",
   "metadata": {},
   "source": [
    "### OOP"
   ]
  },
  {
   "cell_type": "markdown",
   "id": "4e52cda6",
   "metadata": {},
   "source": [
    "1. Write a Python program to create a class representing a Circle. Include methods to calculate its area and perimeter."
   ]
  },
  {
   "cell_type": "code",
   "execution_count": null,
   "id": "bdb4c4ed",
   "metadata": {},
   "outputs": [],
   "source": [
    "# Importing the necessary libraries\n",
    "import math\n",
    "\n",
    "class Circle:\n",
    "    # Defining the constructor\n",
    "    def __init__(self, radius):\n",
    "        self.radius = radius\n",
    "    \n",
    "    # Defining the perimeter method\n",
    "    def perimeter(self):\n",
    "        return 2 * math.pi * self.radius\n",
    "    \n",
    "    # Defining the area method\n",
    "    def area(self):\n",
    "        return math.pi * self.radius ** 2"
   ]
  },
  {
   "cell_type": "markdown",
   "id": "1bfb4b6b",
   "metadata": {},
   "source": [
    "2. Write a Python program to create a person class. Include attributes like name, country and date of birth. Implement a method to determine the person's age. "
   ]
  },
  {
   "cell_type": "code",
   "execution_count": null,
   "id": "a55b50fa",
   "metadata": {},
   "outputs": [],
   "source": [
    "# Importing the necessary libraries\n",
    "from datetime import date\n",
    "\n",
    "class Person:\n",
    "    # Defining the constructor\n",
    "    def __init__(self, name, country, birth_date):\n",
    "        self.name = name\n",
    "        self.country = country\n",
    "        self.birth_date = birth_date  # Format: YYYY-MM-DD\n",
    "\n",
    "    # Defining the calculate age method\n",
    "    def calculate_age(self):\n",
    "        birth_date_year, birth_date_month, birth_date_day = map(int, self.birth_date.split(\"-\"))\n",
    "        today = date.today()\n",
    "        age = today.year - birth_date_year\n",
    "\n",
    "        # If birthday hasn't occurred yet this year, subtract 1\n",
    "        if (today.month, today.day) < (birth_date_month, birth_date_day):\n",
    "            age -= 1\n",
    "\n",
    "        return age"
   ]
  },
  {
   "cell_type": "markdown",
   "id": "cc0088fd",
   "metadata": {},
   "source": [
    "3. Write a Python program to create a calculator class. Include methods for basic arithmetic operations. "
   ]
  },
  {
   "cell_type": "code",
   "execution_count": null,
   "id": "d9c30151",
   "metadata": {},
   "outputs": [],
   "source": [
    "class Calculator:\n",
    "    def add(self, first_number, second_number):\n",
    "        return first_number + second_number\n",
    "\n",
    "    def subtract(self, first_number, second_number):\n",
    "        return first_number - second_number\n",
    "\n",
    "    def multiply(self, first_number, second_number):\n",
    "        return first_number * second_number\n",
    "\n",
    "    def divide(self, first_number, second_number):\n",
    "        if second_number != 0:\n",
    "            return first_number / second_number\n",
    "        else:\n",
    "            return \"Cannot divide by zero\""
   ]
  },
  {
   "cell_type": "markdown",
   "id": "46e8a261",
   "metadata": {},
   "source": [
    "4. Write a Python program to create a class that represents a shape. Include methods to calculate its area and perimeter. Implement subclasses for different shapes like circle, triangle, and square. "
   ]
  },
  {
   "cell_type": "code",
   "execution_count": null,
   "id": "85ae4c66",
   "metadata": {},
   "outputs": [],
   "source": [
    "# Importing the necessary libraries\n",
    "import math\n",
    "from abc import ABC, abstractmethod\n",
    "\n",
    "# Base class\n",
    "class Shape(ABC):\n",
    "    @abstractmethod\n",
    "    def area(self):\n",
    "        pass\n",
    "\n",
    "    @abstractmethod\n",
    "    def perimeter(self):\n",
    "        pass\n",
    "\n",
    "# Subclass: Circle\n",
    "class Circle(Shape):\n",
    "    def __init__(self, radius):\n",
    "        self.radius = radius\n",
    "\n",
    "    def area(self):\n",
    "        return math.pi * self.radius ** 2\n",
    "\n",
    "    def perimeter(self):\n",
    "        return 2 * math.pi * self.radius\n",
    "\n",
    "# Subclass: Square\n",
    "class Square(Shape):\n",
    "    def __init__(self, side):\n",
    "        self.side = side\n",
    "\n",
    "    def area(self):\n",
    "        return self.side ** 2\n",
    "\n",
    "    def perimeter(self):\n",
    "        return 4 * self.side\n",
    "\n",
    "# Subclass: Triangle\n",
    "class Triangle(Shape):\n",
    "    def __init__(self, first_side, second_side, third_side):\n",
    "        self.first_side = first_side\n",
    "        self.second_side = second_side\n",
    "        self.third_side = third_side\n",
    "\n",
    "    def perimeter(self):\n",
    "        return self.first_side + self.second_side + self.third_side\n",
    "\n",
    "    def area(self):\n",
    "        s = self.perimeter() / 2\n",
    "        return math.sqrt(s * (s - self.first_side) * (s - self.second_side) * (s - self.third_side))"
   ]
  }
 ],
 "metadata": {
  "kernelspec": {
   "display_name": "Python 3",
   "language": "python",
   "name": "python3"
  },
  "language_info": {
   "codemirror_mode": {
    "name": "ipython",
    "version": 3
   },
   "file_extension": ".py",
   "mimetype": "text/x-python",
   "name": "python",
   "nbconvert_exporter": "python",
   "pygments_lexer": "ipython3",
   "version": "3.13.3"
  }
 },
 "nbformat": 4,
 "nbformat_minor": 5
}

{
 "cells": [
  {
   "cell_type": "markdown",
   "id": "59302b4d",
   "metadata": {},
   "source": [
    "1- Write a Python program which accepts the radius of a circle from the user and compute the area."
   ]
  },
  {
   "cell_type": "code",
   "execution_count": 35,
   "id": "358c7a55",
   "metadata": {},
   "outputs": [
    {
     "name": "stdout",
     "output_type": "stream",
     "text": [
      "Invalid input. Please enter a numeric value.\n",
      "Invalid input. Please enter a numeric value.\n",
      "The circle area of the circle radius 12.0 that you entered is 452.3893421169302\n"
     ]
    }
   ],
   "source": [
    "# Importing necessary libraries\n",
    "import math\n",
    "\n",
    "# Reading and Validating the circle radius form the user\n",
    "while True:\n",
    "    try:\n",
    "        circle_radius = float(input(\"Please, enter the circle radius: \"))\n",
    "        if circle_radius <= 0:\n",
    "            print(\"Radius must be a positive number. Please enter a valid circle radius: \")\n",
    "        else:\n",
    "            break\n",
    "    except ValueError:\n",
    "        print(\"Invalid input. Please enter a numeric value: \")\n",
    "\n",
    "# Calculating the circle area\n",
    "circle_area = math.pi * pow(circle_radius, 2)\n",
    "\n",
    "# Printing the circle to the user\n",
    "print(f\"The circle area of the circle radius {circle_radius} that you entered is {circle_area}\")"
   ]
  },
  {
   "cell_type": "markdown",
   "id": "9a795005",
   "metadata": {},
   "source": [
    "2- Write a Python program to Check if a Number is Odd or Even."
   ]
  },
  {
   "cell_type": "code",
   "execution_count": 4,
   "id": "f7d581c0",
   "metadata": {},
   "outputs": [
    {
     "name": "stdout",
     "output_type": "stream",
     "text": [
      "The number 19.0 you have entered is odd\n"
     ]
    }
   ],
   "source": [
    "# Letting the user to enter the number and validate it\n",
    "while True:\n",
    "    try:\n",
    "        number = float(input(\"Please, enter the number you want to check if it is even or odd: \"))\n",
    "        break\n",
    "    except ValueError:\n",
    "        print(\"Invalid input. Please enter a valid number: \")\n",
    "\n",
    "# Checking if the number is odd or even and printing the result to the user\n",
    "print(f\"The number {number} you have entered is {\"even\" if number % 2 == 0 else \"odd\"}\")"
   ]
  },
  {
   "cell_type": "markdown",
   "id": "3601f308",
   "metadata": {},
   "source": [
    "3- Write a Python program to sum of three given integers. However, if two values are equal sum will be zero. "
   ]
  },
  {
   "cell_type": "code",
   "execution_count": 7,
   "id": "7acf533b",
   "metadata": {},
   "outputs": [
    {
     "name": "stdout",
     "output_type": "stream",
     "text": [
      "Sum of the three numbers 2.0, 3.0 and 3.0 is 0\n"
     ]
    }
   ],
   "source": [
    "# Letting the user input the three numbers he wants to get their sum and validate them\n",
    "while True:\n",
    "    try:\n",
    "        first_number = float(input(\"Please, enter the first number you want to get the sum from: \"))\n",
    "        break\n",
    "    except ValueError:\n",
    "        print(\"Invalid input. Please enter a valid number: \")\n",
    "\n",
    "while True:\n",
    "    try:\n",
    "        second_number = float(input(\"Please, enter the second number you want to get the sum from: \"))\n",
    "        break\n",
    "    except ValueError:\n",
    "        print(\"Invalid input. Please enter a valid number: \")\n",
    "\n",
    "while True:\n",
    "    try:\n",
    "        third_number = float(input(\"Please, enter the third number you want to get the sum from: \"))\n",
    "        break\n",
    "    except ValueError:\n",
    "        print(\"Invalid input. Please enter a valid number: \")\n",
    "\n",
    "# Calculating the sum of the three numbers\n",
    "sum_of_the_three_numbers = first_number + second_number + third_number\n",
    "\n",
    "# Printing the result to the user\n",
    "print(f\"Sum of the three numbers {first_number}, {second_number} and {third_number} is {\"0\" if first_number == second_number or first_number == third_number or second_number == third_number else sum_of_the_three_numbers}\")"
   ]
  },
  {
   "cell_type": "markdown",
   "id": "8c76861f",
   "metadata": {},
   "source": [
    "4- Python program to Print the Natural Numbers Summation Pattern. "
   ]
  },
  {
   "cell_type": "code",
   "execution_count": null,
   "id": "e040a000",
   "metadata": {},
   "outputs": [
    {
     "name": "stdout",
     "output_type": "stream",
     "text": [
      "1 = 1\n",
      "1 + 2 = 3\n",
      "1 + 2 + 3 = 6\n",
      "1 + 2 + 3 + 4 = 10\n",
      "1 + 2 + 3 + 4 + 5 = 15\n",
      "1 + 2 + 3 + 4 + 5 + 6 = 21\n",
      "1 + 2 + 3 + 4 + 5 + 6 + 7 = 28\n",
      "1 + 2 + 3 + 4 + 5 + 6 + 7 + 8 = 36\n",
      "1 + 2 + 3 + 4 + 5 + 6 + 7 + 8 + 9 = 45\n",
      "1 + 2 + 3 + 4 + 5 + 6 + 7 + 8 + 9 + 10 = 55\n"
     ]
    }
   ],
   "source": [
    "# Letting the user to enter the last number to print natural numbers summation pattern and validate it\n",
    "while True:\n",
    "    try:\n",
    "        last_number_to_print_natural_numbers_summation_pattern = int(input(\"Please, enter the last number you want to get the natural numbers summation pattern: \"))\n",
    "        if last_number_to_print_natural_numbers_summation_pattern > 0:\n",
    "            break\n",
    "        else:\n",
    "            print(\"Please enter a positive integer: \")\n",
    "    except ValueError:\n",
    "        print(\"Invalid input. Please enter an integer: \")\n",
    "\n",
    "for last_number_in_row in range (1, last_number_to_print_natural_numbers_summation_pattern + 1):\n",
    "    for number in range (1, last_number_in_row + 1):\n",
    "        # Checking if number is the last number in the row or not\n",
    "        # The upcoming output will be in the same line\n",
    "        if number == last_number_in_row:\n",
    "            print(number, end='')\n",
    "        else:\n",
    "            print(number , '+', end=' ')\n",
    "    \n",
    "    # Calculating the sum from 1 to the last number in row\n",
    "    sum_from_1_to_last_number_in_row = int(last_number_in_row * (last_number_in_row + 1) / 2)\n",
    "\n",
    "    # Printing the result to the user\n",
    "    print(f\" = {sum_from_1_to_last_number_in_row}\")"
   ]
  },
  {
   "cell_type": "markdown",
   "id": "f77e2c51",
   "metadata": {},
   "source": [
    "5- Check Prime Number in Python. "
   ]
  },
  {
   "cell_type": "code",
   "execution_count": null,
   "id": "b566c8e2",
   "metadata": {},
   "outputs": [
    {
     "name": "stdout",
     "output_type": "stream",
     "text": [
      "The number 7 you entered is a prime\n"
     ]
    }
   ],
   "source": [
    "# Letting the user enter the number to check if it is prime or not and validate it\n",
    "while True:\n",
    "    try:\n",
    "        number = int(input(\"Please, enter a non-negative integer to check if it is prime or not: \"))\n",
    "        if number >= 0:\n",
    "            break\n",
    "        else:\n",
    "            print(\"Please enter a number that is 0 or greater: \")\n",
    "    except ValueError:\n",
    "        print(\"Invalid input. Please enter an integer: \")\n",
    "\n",
    "# A boolean flag to check if a number is a prime or not\n",
    "is_prime = True\n",
    "\n",
    "# Checking if the number is prime\n",
    "for counter in range (2, number):\n",
    "    if number % counter == 0:\n",
    "        is_prime = False\n",
    "\n",
    "# Printing the result to the user\n",
    "print(f\"The number {number} you entered {\"is\" if is_prime else \"is not\"} a prime\")"
   ]
  },
  {
   "cell_type": "markdown",
   "id": "6786866f",
   "metadata": {},
   "source": [
    "6- Write a Python program to compute and display the first 16 numbers powers of 2, starting with 1. "
   ]
  },
  {
   "cell_type": "code",
   "execution_count": 30,
   "id": "4c18217d",
   "metadata": {},
   "outputs": [
    {
     "name": "stdout",
     "output_type": "stream",
     "text": [
      "1\n",
      "2\n",
      "4\n",
      "8\n",
      "16\n",
      "32\n",
      "64\n",
      "128\n",
      "256\n",
      "512\n",
      "1024\n",
      "2048\n",
      "4096\n",
      "8192\n",
      "16384\n",
      "32768\n"
     ]
    }
   ],
   "source": [
    "# Printing the 16 first numbers powers of 2 starting from 2 power 0\n",
    "for number in range(0, 16):\n",
    "    print(2 ** number)"
   ]
  },
  {
   "cell_type": "markdown",
   "id": "a957475f",
   "metadata": {},
   "source": [
    "7- Write a Python program to print all even numbers from 1 to n using for loop. Python program to generate all even numbers between given range. "
   ]
  },
  {
   "cell_type": "code",
   "execution_count": null,
   "id": "b625c5b2",
   "metadata": {},
   "outputs": [
    {
     "name": "stdout",
     "output_type": "stream",
     "text": [
      "2 4 6 8 10 "
     ]
    }
   ],
   "source": [
    "# Letting the user enter the last number to get even numbers before and validate it\n",
    "while True:\n",
    "    try:\n",
    "        last_number_to_get_even_numbers_before = int(input(\"Please, enter a positive number to get all even numbers before it starting from 1: \"))\n",
    "        if last_number_to_get_even_numbers_before > 0:\n",
    "            break\n",
    "        else:\n",
    "            print(\"Please enter a number greater than 0: \")\n",
    "    except ValueError:\n",
    "        print(\"Invalid input. Please enter a valid integer: \")\n",
    "\n",
    "# Printing the even number until the last number\n",
    "for number in range(1, last_number_to_get_even_numbers_before + 1):\n",
    "    if number % 2 == 0:\n",
    "        print(number, end=' ')"
   ]
  }
 ],
 "metadata": {
  "kernelspec": {
   "display_name": "Python 3",
   "language": "python",
   "name": "python3"
  },
  "language_info": {
   "codemirror_mode": {
    "name": "ipython",
    "version": 3
   },
   "file_extension": ".py",
   "mimetype": "text/x-python",
   "name": "python",
   "nbconvert_exporter": "python",
   "pygments_lexer": "ipython3",
   "version": "3.13.3"
  }
 },
 "nbformat": 4,
 "nbformat_minor": 5
}
